{
 "cells": [
  {
   "cell_type": "code",
   "execution_count": 1,
   "id": "deeefaa4",
   "metadata": {},
   "outputs": [
    {
     "name": "stdout",
     "output_type": "stream",
     "text": [
      "It works\n"
     ]
    }
   ],
   "source": [
    "if 25 > 10:\n",
    "    print('It works')"
   ]
  },
  {
   "cell_type": "code",
   "execution_count": 9,
   "id": "3d79bf0c",
   "metadata": {},
   "outputs": [
    {
     "name": "stdout",
     "output_type": "stream",
     "text": [
      "It works\n"
     ]
    }
   ],
   "source": [
    "if 25 < 10 or 1 < 3:\n",
    "    print('It works')\n",
    "elif 25 < 20:\n",
    "    print('elif worked!')\n",
    "elif 25 < 21:\n",
    "    print('elif2 worked!')\n",
    "elif 25 < 40:\n",
    "    print('elif3 worked!')\n",
    "elif 25 < 50:\n",
    "    print('elif4 worked!')\n",
    "else: \n",
    "    print('It did not work')"
   ]
  },
  {
   "cell_type": "code",
   "execution_count": 10,
   "id": "e9f55d1c",
   "metadata": {},
   "outputs": [
    {
     "name": "stdout",
     "output_type": "stream",
     "text": [
      "It did not work\n"
     ]
    }
   ],
   "source": [
    "print('It Worked!') if 10>30 else print('It did not work')"
   ]
  },
  {
   "cell_type": "code",
   "execution_count": 14,
   "id": "9ff20692",
   "metadata": {},
   "outputs": [
    {
     "name": "stdout",
     "output_type": "stream",
     "text": [
      "It works\n",
      "nested printed else\n"
     ]
    }
   ],
   "source": [
    "if 25 < 10 or 1 < 3:\n",
    "    print('It works')\n",
    "    if 1 > 5:\n",
    "        print('Nested if works')\n",
    "    else: \n",
    "        print('nested printed else')\n",
    "elif 25 < 20:\n",
    "    print('elif worked!')\n",
    "elif 25 < 21:\n",
    "    print('elif2 worked!')\n",
    "elif 25 < 40:\n",
    "    print('elif3 worked!')\n",
    "elif 25 < 50:\n",
    "    print('elif4 worked!')\n",
    "else: \n",
    "    print('It did not work')"
   ]
  },
  {
   "cell_type": "code",
   "execution_count": null,
   "id": "1147df4e",
   "metadata": {},
   "outputs": [],
   "source": []
  },
  {
   "cell_type": "code",
   "execution_count": null,
   "id": "ba5f8536",
   "metadata": {},
   "outputs": [],
   "source": []
  },
  {
   "cell_type": "code",
   "execution_count": null,
   "id": "fb3f5d69",
   "metadata": {},
   "outputs": [],
   "source": []
  },
  {
   "cell_type": "code",
   "execution_count": null,
   "id": "0335f5d6",
   "metadata": {},
   "outputs": [],
   "source": []
  },
  {
   "cell_type": "code",
   "execution_count": null,
   "id": "3c878bd0",
   "metadata": {},
   "outputs": [],
   "source": []
  },
  {
   "cell_type": "code",
   "execution_count": null,
   "id": "52c32fd8",
   "metadata": {},
   "outputs": [],
   "source": []
  },
  {
   "cell_type": "code",
   "execution_count": null,
   "id": "2b45a20b",
   "metadata": {},
   "outputs": [],
   "source": []
  },
  {
   "cell_type": "code",
   "execution_count": null,
   "id": "2dfc3fcf",
   "metadata": {},
   "outputs": [],
   "source": []
  }
 ],
 "metadata": {
  "kernelspec": {
   "display_name": "Python 3 (ipykernel)",
   "language": "python",
   "name": "python3"
  },
  "language_info": {
   "codemirror_mode": {
    "name": "ipython",
    "version": 3
   },
   "file_extension": ".py",
   "mimetype": "text/x-python",
   "name": "python",
   "nbconvert_exporter": "python",
   "pygments_lexer": "ipython3",
   "version": "3.11.3"
  }
 },
 "nbformat": 4,
 "nbformat_minor": 5
}
