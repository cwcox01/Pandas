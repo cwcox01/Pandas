{
 "cells": [
  {
   "cell_type": "markdown",
   "id": "1c109d17",
   "metadata": {},
   "source": [
    "# Data Types"
   ]
  },
  {
   "cell_type": "code",
   "execution_count": 3,
   "id": "fec65393",
   "metadata": {},
   "outputs": [
    {
     "data": {
      "text/plain": [
       "int"
      ]
     },
     "execution_count": 3,
     "metadata": {},
     "output_type": "execute_result"
    }
   ],
   "source": [
    "type(-12 + 100)"
   ]
  },
  {
   "cell_type": "code",
   "execution_count": 4,
   "id": "37d38b32",
   "metadata": {},
   "outputs": [
    {
     "data": {
      "text/plain": [
       "float"
      ]
     },
     "execution_count": 4,
     "metadata": {},
     "output_type": "execute_result"
    }
   ],
   "source": [
    "type(12 + 10.25)"
   ]
  },
  {
   "cell_type": "code",
   "execution_count": 5,
   "id": "357a7236",
   "metadata": {},
   "outputs": [
    {
     "data": {
      "text/plain": [
       "complex"
      ]
     },
     "execution_count": 5,
     "metadata": {},
     "output_type": "execute_result"
    }
   ],
   "source": [
    "type(12 + 3j)"
   ]
  },
  {
   "cell_type": "code",
   "execution_count": 6,
   "id": "18eaeb38",
   "metadata": {},
   "outputs": [
    {
     "name": "stdout",
     "output_type": "stream",
     "text": [
      "(12+3j)\n"
     ]
    }
   ],
   "source": [
    "print(12 + 3j)"
   ]
  },
  {
   "cell_type": "code",
   "execution_count": 7,
   "id": "061cfd57",
   "metadata": {},
   "outputs": [
    {
     "name": "stdout",
     "output_type": "stream",
     "text": [
      "(12+100j)\n"
     ]
    }
   ],
   "source": [
    "j = 3\n",
    "print(12 + 100j)"
   ]
  },
  {
   "cell_type": "code",
   "execution_count": 10,
   "id": "7c758380",
   "metadata": {},
   "outputs": [
    {
     "data": {
      "text/plain": [
       "bool"
      ]
     },
     "execution_count": 10,
     "metadata": {},
     "output_type": "execute_result"
    }
   ],
   "source": [
    "#Boolean\n",
    "\n",
    "type(1 > 5)\n",
    "type(False)"
   ]
  },
  {
   "cell_type": "code",
   "execution_count": 11,
   "id": "d1dac76a",
   "metadata": {},
   "outputs": [
    {
     "data": {
      "text/plain": [
       "False"
      ]
     },
     "execution_count": 11,
     "metadata": {},
     "output_type": "execute_result"
    }
   ],
   "source": [
    "1 > 5"
   ]
  },
  {
   "cell_type": "code",
   "execution_count": 12,
   "id": "931914ef",
   "metadata": {},
   "outputs": [
    {
     "data": {
      "text/plain": [
       "True"
      ]
     },
     "execution_count": 12,
     "metadata": {},
     "output_type": "execute_result"
    }
   ],
   "source": [
    "1 == 1"
   ]
  },
  {
   "cell_type": "code",
   "execution_count": 13,
   "id": "ed45172c",
   "metadata": {},
   "outputs": [
    {
     "data": {
      "text/plain": [
       "'Single'"
      ]
     },
     "execution_count": 13,
     "metadata": {},
     "output_type": "execute_result"
    }
   ],
   "source": [
    "# Strings\n",
    "\n",
    "'Single'"
   ]
  },
  {
   "cell_type": "code",
   "execution_count": 14,
   "id": "b8e0806e",
   "metadata": {},
   "outputs": [
    {
     "data": {
      "text/plain": [
       "'Double'"
      ]
     },
     "execution_count": 14,
     "metadata": {},
     "output_type": "execute_result"
    }
   ],
   "source": [
    "\"Double\""
   ]
  },
  {
   "cell_type": "code",
   "execution_count": 18,
   "id": "bc2e6228",
   "metadata": {},
   "outputs": [],
   "source": [
    "multiline = \"\"\"\n",
    "Lorem Lorem Lorem\n",
    "Lorem Lorem Lorem\n",
    "\"\"\""
   ]
  },
  {
   "cell_type": "code",
   "execution_count": 19,
   "id": "47b6bd7a",
   "metadata": {},
   "outputs": [
    {
     "name": "stdout",
     "output_type": "stream",
     "text": [
      "\n",
      "Lorem Lorem Lorem\n",
      "Lorem Lorem Lorem\n",
      "\n"
     ]
    }
   ],
   "source": [
    "print(multiline)"
   ]
  },
  {
   "cell_type": "code",
   "execution_count": 20,
   "id": "39362058",
   "metadata": {},
   "outputs": [
    {
     "data": {
      "text/plain": [
       "\"I've always wanted to eat a gallon of ice cream\""
      ]
     },
     "execution_count": 20,
     "metadata": {},
     "output_type": "execute_result"
    }
   ],
   "source": [
    "\"I've always wanted to eat a gallon of ice cream\""
   ]
  },
  {
   "cell_type": "code",
   "execution_count": 24,
   "id": "f6d0ed72",
   "metadata": {},
   "outputs": [
    {
     "name": "stdout",
     "output_type": "stream",
     "text": [
      "r\n"
     ]
    }
   ],
   "source": [
    "a = 'Hello World'\n",
    "\n",
    "print(a[-3])"
   ]
  },
  {
   "cell_type": "code",
   "execution_count": 25,
   "id": "785ab195",
   "metadata": {},
   "outputs": [
    {
     "data": {
      "text/plain": [
       "'Hello WorldHello WorldHello World'"
      ]
     },
     "execution_count": 25,
     "metadata": {},
     "output_type": "execute_result"
    }
   ],
   "source": [
    "a*3"
   ]
  },
  {
   "cell_type": "code",
   "execution_count": 26,
   "id": "5be73be5",
   "metadata": {},
   "outputs": [
    {
     "data": {
      "text/plain": [
       "'Hello WorldHello World'"
      ]
     },
     "execution_count": 26,
     "metadata": {},
     "output_type": "execute_result"
    }
   ],
   "source": [
    "a + a"
   ]
  },
  {
   "cell_type": "code",
   "execution_count": 27,
   "id": "883569ea",
   "metadata": {},
   "outputs": [
    {
     "data": {
      "text/plain": [
       "[1, 2, 3]"
      ]
     },
     "execution_count": 27,
     "metadata": {},
     "output_type": "execute_result"
    }
   ],
   "source": [
    "# List\n",
    "\n",
    "[1,2,3]\n"
   ]
  },
  {
   "cell_type": "code",
   "execution_count": 28,
   "id": "2622bcb8",
   "metadata": {},
   "outputs": [
    {
     "data": {
      "text/plain": [
       "['Cookie Dough', 'Strawberry', 'Chocolate']"
      ]
     },
     "execution_count": 28,
     "metadata": {},
     "output_type": "execute_result"
    }
   ],
   "source": [
    "[\"Cookie Dough\", \"Strawberry\", \"Chocolate\"]"
   ]
  },
  {
   "cell_type": "code",
   "execution_count": 29,
   "id": "f275bc6d",
   "metadata": {},
   "outputs": [
    {
     "data": {
      "text/plain": [
       "['Vanilla', 3, ['Scoops', 'Spoon'], True]"
      ]
     },
     "execution_count": 29,
     "metadata": {},
     "output_type": "execute_result"
    }
   ],
   "source": [
    "['Vanilla', 3, ['Scoops', 'Spoon'], True]"
   ]
  },
  {
   "cell_type": "code",
   "execution_count": 30,
   "id": "d25f1a37",
   "metadata": {},
   "outputs": [],
   "source": [
    "ice_cream = [\"Cookie Dough\", \"Strawberry\", \"Chocolate\"]"
   ]
  },
  {
   "cell_type": "code",
   "execution_count": 31,
   "id": "219662e3",
   "metadata": {},
   "outputs": [
    {
     "data": {
      "text/plain": [
       "list"
      ]
     },
     "execution_count": 31,
     "metadata": {},
     "output_type": "execute_result"
    }
   ],
   "source": [
    "type(ice_cream)"
   ]
  },
  {
   "cell_type": "code",
   "execution_count": null,
   "id": "d2e98185",
   "metadata": {},
   "outputs": [],
   "source": []
  }
 ],
 "metadata": {
  "kernelspec": {
   "display_name": "Python 3 (ipykernel)",
   "language": "python",
   "name": "python3"
  },
  "language_info": {
   "codemirror_mode": {
    "name": "ipython",
    "version": 3
   },
   "file_extension": ".py",
   "mimetype": "text/x-python",
   "name": "python",
   "nbconvert_exporter": "python",
   "pygments_lexer": "ipython3",
   "version": "3.11.3"
  }
 },
 "nbformat": 4,
 "nbformat_minor": 5
}
